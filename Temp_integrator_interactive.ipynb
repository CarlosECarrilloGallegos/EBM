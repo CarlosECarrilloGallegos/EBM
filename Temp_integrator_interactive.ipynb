{
 "cells": [
  {
   "cell_type": "markdown",
   "metadata": {},
   "source": [
    "# Earth Temperature Integrator (Interactive)"
   ]
  },
  {
   "cell_type": "code",
   "execution_count": 4,
   "metadata": {},
   "outputs": [],
   "source": [
    "#Import libraries\n",
    "%matplotlib widget\n",
    "import numpy as np\n",
    "import matplotlib.pyplot as plt\n",
    "from matplotlib.widgets import Slider, Button\n",
    "import matplotlib.animation as animation\n",
    "import random\n",
    "from matplotlib.patches import Rectangle"
   ]
  },
  {
   "cell_type": "code",
   "execution_count": 5,
   "metadata": {},
   "outputs": [
    {
     "name": "stdin",
     "output_type": "stream",
     "text": [
      "Enter the starting albedo (between 0 and 1.0):  0.1\n",
      "Enter the starting emissivity (between 0 and 1.0):  0.9\n",
      "Enter the starting solar flux:  900\n"
     ]
    }
   ],
   "source": [
    "#Set up integrator\n",
    "\n",
    "#constants\n",
    "C = 2.08e8\n",
    "alpha = float(input(\"Enter the starting albedo (between 0 and 1.0): \")) #Best = 0.32\n",
    "epsilon = float(input(\"Enter the starting emissivity (between 0 and 1.0): \")) #Best = 0.78\n",
    "sigma = 5.67e-8\n",
    "S = int(input(\"Enter the starting solar flux: \")) #Best = 1350\n",
    "\n",
    "#Initialize\n",
    "steps = 450\n",
    "T_now = (np.zeros(steps))\n",
    "H_now = (np.zeros(steps) +1)\n",
    "T_next = np.zeros(steps) \n",
    "H_next = np.zeros(steps)\n",
    "\n",
    "\n",
    "dt = 1e6 #seconds\n",
    "\n",
    "#Differential equation to integrate\n",
    "#dH = ((1 - alpha)*S)/4 - epsilon*sigma*(T**4)\n",
    "\n",
    "for i in range(0, steps - 1):\n",
    "    H_next[i] = H_now[i] + (((1 - alpha)*S)/4 - sigma*(T_now[i]**4) + epsilon*sigma*(242.4**4)) * dt\n",
    "    \n",
    "    H_now[i+1] = H_next[i]\n",
    "    \n",
    "    T_next[i] = H_now[i] / C                       \n",
    "    \n",
    "    T_now[i+1] = T_next[i]\n",
    "                            "
   ]
  },
  {
   "cell_type": "code",
   "execution_count": 6,
   "metadata": {},
   "outputs": [
    {
     "data": {
      "application/vnd.jupyter.widget-view+json": {
       "model_id": "61682bb982bd4648b6b971bfd3d2b7f1",
       "version_major": 2,
       "version_minor": 0
      },
      "text/plain": [
       "Canvas(toolbar=Toolbar(toolitems=[('Home', 'Reset original view', 'home', 'home'), ('Back', 'Back to previous …"
      ]
     },
     "metadata": {},
     "output_type": "display_data"
    }
   ],
   "source": [
    "#Set up animation\n",
    "\n",
    "step = []\n",
    "temp = []\n",
    "\n",
    "fig = plt.figure()\n",
    "ax1 = fig.add_subplot(1,1,1)\n",
    "plt.title('Earth Temperature Evolution')\n",
    "plt.subplots_adjust(left=0.25, bottom=0.25)\n",
    "\n",
    "ax1.set_ylim(0,400)\n",
    "ax1.set_xlim(0,500)\n",
    "ax1.set_xlabel('Step')\n",
    "ax1.set_ylabel('Temperature (K)')\n",
    "ax1.add_patch((Rectangle((0,280), 500, 20, color = 'green', alpha = 0.2)))\n",
    "\n",
    "def animate(i):\n",
    "    step.append(i)\n",
    "    temp.append(T_now[i])\n",
    "    ax1.plot(step, temp, color = 'red')\n",
    "\n",
    "\n",
    "ani = animation.FuncAnimation(fig, animate, interval = 40)\n",
    "plt.show()"
   ]
  },
  {
   "cell_type": "code",
   "execution_count": null,
   "metadata": {},
   "outputs": [],
   "source": []
  }
 ],
 "metadata": {
  "kernelspec": {
   "display_name": "Python 3",
   "language": "python",
   "name": "python3"
  },
  "language_info": {
   "codemirror_mode": {
    "name": "ipython",
    "version": 3
   },
   "file_extension": ".py",
   "mimetype": "text/x-python",
   "name": "python",
   "nbconvert_exporter": "python",
   "pygments_lexer": "ipython3",
   "version": "3.8.11"
  }
 },
 "nbformat": 4,
 "nbformat_minor": 4
}
