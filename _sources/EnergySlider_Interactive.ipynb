{
 "cells": [
  {
   "cell_type": "markdown",
   "id": "458834ff",
   "metadata": {},
   "source": [
    "# Real-Time Energy-Balance Model (Interactive)"
   ]
  },
  {
   "cell_type": "markdown",
   "id": "20217b79-faee-4cea-aa3f-6a08e12e78cf",
   "metadata": {},
   "source": [
    "[![Binder](https://mybinder.org/badge_logo.svg)](https://mybinder.org/v2/gh/CarlosECarrilloGallegos/EBM/main)"
   ]
  },
  {
   "cell_type": "markdown",
   "id": "04b272bd-32dd-4888-9b99-ac689a97009b",
   "metadata": {},
   "source": [
    "## Interactive Model with Sliders\n",
    "\n",
    "This code starts with the most normal Earth circumstances: albedo of 0.32, solar flux of 1373 watts per meter squared, and epsilon of 0.78. It then animates a line that acts as an active signal that can be adjsuted by sliders for those three properties. This serves to illustrate how the temperature is affected by changing properties."
   ]
  },
  {
   "cell_type": "code",
   "execution_count": 1,
   "id": "c0de9145",
   "metadata": {},
   "outputs": [],
   "source": [
    "#Import libraries\n",
    "%matplotlib widget\n",
    "import numpy as np\n",
    "import matplotlib.pyplot as plt\n",
    "from matplotlib.widgets import Slider, Button\n",
    "import matplotlib.animation as animation\n"
   ]
  },
  {
   "cell_type": "code",
   "execution_count": 2,
   "id": "b96a065d",
   "metadata": {},
   "outputs": [
    {
     "data": {
      "application/vnd.jupyter.widget-view+json": {
       "model_id": "656c1a11f74e4a6887f7a223bf2a897a",
       "version_major": 2,
       "version_minor": 0
      },
      "text/plain": [
       "Canvas(toolbar=Toolbar(toolitems=[('Home', 'Reset original view', 'home', 'home'), ('Back', 'Back to previous …"
      ]
     },
     "metadata": {},
     "output_type": "display_data"
    }
   ],
   "source": [
    "#constants\n",
    "C = 2.08e8\n",
    "alpha = 0.32\n",
    "epsilon = 0.78 #key value\n",
    "sigma = 5.67e-8\n",
    "S = 1373\n",
    "T_a = 242.4\n",
    "\n",
    "\n",
    "#step array\n",
    "step = []\n",
    "temp = []\n",
    "\n",
    "\n",
    "#Create figure and make space for sliders\n",
    "fig = plt.figure()\n",
    "ax1 = fig.add_subplot(1,1,1)\n",
    "plt.title('Energy Balance Model')\n",
    "plt.subplots_adjust(left=0.25, bottom=0.25)\n",
    "\n",
    "#Sliders\n",
    "#Each slider has its own axis, and takes the \n",
    "#min val, max val, and initial val\n",
    "axflux = plt.axes([0.1, 0.25, 0.0225, 0.63])\n",
    "slider_flux = Slider(\n",
    "    ax=axflux,\n",
    "    label=\"Flux\",\n",
    "    valmin=900,\n",
    "    valmax=1600,\n",
    "    valinit=1373,\n",
    "    orientation=\"vertical\"\n",
    ")\n",
    "\n",
    "axalpha = plt.axes([0.25, 0.05, 0.65, 0.03])\n",
    "slider_alpha = Slider(\n",
    "    ax=axalpha,\n",
    "    label=\"Albedo\",\n",
    "    valmin=0.1,\n",
    "    valmax=0.6,\n",
    "    valinit=0.32,\n",
    "    orientation=\"horizontal\"\n",
    ")\n",
    "\n",
    "axemis = plt.axes([0.25, 0.1, 0.65, 0.03])\n",
    "slider_emis = Slider(\n",
    "    ax = axemis,\n",
    "    label = \"Emissivity\",\n",
    "    valmin = 0.5,\n",
    "    valmax = 0.9,\n",
    "    valinit = 0.78,\n",
    "    orientation= \"horizontal\"\n",
    ")\n",
    "\n",
    "#Animation function. Updates for each \"i\"\n",
    "def animate(i):\n",
    "    step.append(i)\n",
    "    temp.append((((1 - slider_alpha.val)*(slider_flux.val) + (slider_emis.val*sigma*T_a**4))/(4*sigma))**(1/4))\n",
    "    ax1.set_ylim(220,320)\n",
    "    ax1.plot(step, temp, color = 'green')\n",
    "    ax1.set_xlabel('Step')\n",
    "    ax1.set_ylabel('Temperature (K)')\n",
    "\n",
    "\n",
    "ani = animation.FuncAnimation(fig, animate, interval = 80)\n",
    "plt.show()\n"
   ]
  },
  {
   "cell_type": "code",
   "execution_count": null,
   "id": "2bdf2215",
   "metadata": {},
   "outputs": [],
   "source": []
  },
  {
   "cell_type": "code",
   "execution_count": null,
   "id": "d17d1f7f",
   "metadata": {},
   "outputs": [],
   "source": []
  },
  {
   "cell_type": "code",
   "execution_count": null,
   "id": "a66f92d1-65b9-4f1d-a0a1-38cd32637255",
   "metadata": {},
   "outputs": [],
   "source": []
  }
 ],
 "metadata": {
  "kernelspec": {
   "display_name": "Python 3",
   "language": "python",
   "name": "python3"
  },
  "language_info": {
   "codemirror_mode": {
    "name": "ipython",
    "version": 3
   },
   "file_extension": ".py",
   "mimetype": "text/x-python",
   "name": "python",
   "nbconvert_exporter": "python",
   "pygments_lexer": "ipython3",
   "version": "3.8.11"
  }
 },
 "nbformat": 4,
 "nbformat_minor": 5
}
