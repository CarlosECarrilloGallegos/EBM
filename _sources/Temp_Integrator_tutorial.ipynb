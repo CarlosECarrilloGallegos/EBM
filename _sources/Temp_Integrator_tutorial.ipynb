{
 "cells": [
  {
   "cell_type": "markdown",
   "metadata": {},
   "source": [
    "# Earth Temperature Integrator (Tutorial)"
   ]
  },
  {
   "cell_type": "markdown",
   "metadata": {},
   "source": [
    "## Objective\n",
    "\n",
    "We want to build an integrator that evolves the Earth's temperature over time given certain initial conditions.\n",
    "\n",
    "Our model will assume the Earth's initial surface temperature is 0K, which is obviously a ridiculous assumption. The benefit in starting the temperature from scratch is that you can see how the initial conditions dictate the evolution of the Earth's temperature. Eventually, our model's temperature will level off, and energy balance will have been achieved.\n",
    "\n",
    "First, we'll start by defining our initial conditions, and getting into the weeds of the terminology.\n",
    "\n",
    "## Variable Initial Conditions\n",
    "\n",
    "There are three variable properties which dictate the evolution of the Earth's temperature in our model:\n",
    "\n",
    "### Albedo\n",
    "\n",
    "The albedo, a value between 0 and 1.0, defines the percentage of energy received by a body that it reflects back. An albedo of 0.5, for instance, means that the body absorbs 50% of the energy it recieves.\n",
    "\n",
    "Earth's average albedo is 0.32. This is a simplification, as different parts of Earth's surface have very different albedos. For our purposes, however, this will suffice.\n",
    "\n",
    "### Solar Flux\n",
    "\n",
    "How much energy the Sun the sends to the Earth, in units of watts per square meter. It varies slightly as the sun evolves, but not significantly. It is about 1373 W/m2.\n",
    "\n",
    "### Emissivity\n",
    "\n",
    "A value between 0 and 1.0 that represents how much energy is emitted by the atmosphere. For example, if an atmosphere has an emissivity of 0.6, that means it emits 60% of the energy it recieves.\n",
    "\n",
    "The emissivity of the Earth's atmosphere is best approximated at 0.78. This is where we make our greatest simplification. In reality, the atmosphere is extremely complex, and how much energy is absorbed depends on its chemical composition. Varying the emissivity can capture changes in the atmospheric composition loosely, and sufficiently enough for our purposes, but it's still important to note it's a simplification.\n",
    "\n",
    "\n",
    "Now that we know our variables, we can get aquainted with the equations we want to integrate.\n",
    "\n",
    "## Equations\n",
    "\n",
    "\n"
   ]
  }
 ],
 "metadata": {
  "kernelspec": {
   "display_name": "Python 3",
   "language": "python",
   "name": "python3"
  },
  "language_info": {
   "codemirror_mode": {
    "name": "ipython",
    "version": 3
   },
   "file_extension": ".py",
   "mimetype": "text/x-python",
   "name": "python",
   "nbconvert_exporter": "python",
   "pygments_lexer": "ipython3",
   "version": "3.8.11"
  }
 },
 "nbformat": 4,
 "nbformat_minor": 4
}
