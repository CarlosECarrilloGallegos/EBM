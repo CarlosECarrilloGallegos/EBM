{
 "cells": [
  {
   "cell_type": "markdown",
   "metadata": {},
   "source": [
    "# Energy Balance Model"
   ]
  },
  {
   "cell_type": "code",
   "execution_count": 1,
   "metadata": {},
   "outputs": [],
   "source": [
    "%matplotlib widget\n",
    "import numpy as np\n",
    "import matplotlib.pyplot as plt\n",
    "from matplotlib.widgets import Slider, Button\n",
    "import matplotlib.animation as animation\n",
    "import random\n",
    "from itertools import count\n",
    "\n",
    "#plt.rcParams[\"animation.html\"] = \"jshtml\"\n"
   ]
  },
  {
   "cell_type": "code",
   "execution_count": null,
   "metadata": {},
   "outputs": [],
   "source": []
  },
  {
   "cell_type": "code",
   "execution_count": null,
   "metadata": {},
   "outputs": [],
   "source": []
  },
  {
   "cell_type": "code",
   "execution_count": 2,
   "metadata": {},
   "outputs": [
    {
     "data": {
      "application/vnd.jupyter.widget-view+json": {
       "model_id": "6df444d023ef45d99f245d25370a40b5",
       "version_major": 2,
       "version_minor": 0
      },
      "text/plain": [
       "Canvas(toolbar=Toolbar(toolitems=[('Home', 'Reset original view', 'home', 'home'), ('Back', 'Back to previous …"
      ]
     },
     "metadata": {},
     "output_type": "display_data"
    }
   ],
   "source": [
    "#constants\n",
    "C = 2.08e8\n",
    "alpha = 0.32\n",
    "epsilon = 1 #key value\n",
    "sigma = 5.67e-8\n",
    "S = 1350\n",
    "\n",
    "\n",
    "#step array\n",
    "step = []\n",
    "flux = []\n",
    "index = count()\n",
    "\n",
    "fig = plt.figure()\n",
    "ax1 = fig.add_subplot(1,1,1)\n",
    "plt.title('Energy Balance Model')\n",
    "plt.subplots_adjust(left=0.25, bottom=0.25)\n",
    "\n",
    "#Sliders\n",
    "axflux = plt.axes([0.1, 0.25, 0.0225, 0.63])\n",
    "slider_flux = Slider(\n",
    "    ax=axflux,\n",
    "    label=\"Flux\",\n",
    "    valmin=1200,\n",
    "    valmax=1400,\n",
    "    valinit=1350,\n",
    "    orientation=\"vertical\"\n",
    ")\n",
    "\n",
    "axalpha = plt.axes([0.25, 0.05, 0.65, 0.03])\n",
    "slider_alpha = Slider(\n",
    "    ax=axalpha,\n",
    "    label=\"Albedo\",\n",
    "    valmin=0.2,\n",
    "    valmax=0.4,\n",
    "    valinit=0.3,\n",
    "    orientation=\"horizontal\"\n",
    ")\n",
    "\n",
    "axemis = plt.axes([0.25, 0.1, 0.65, 0.03])\n",
    "slider_emis = Slider(\n",
    "    ax = axemis,\n",
    "    label = \"Emissivity\",\n",
    "    valmin = 0.6,\n",
    "    valmax = 0.8,\n",
    "    valinit = 0.7,\n",
    "    orientation= \"horizontal\"\n",
    ")\n",
    "\n",
    "def animate(i):\n",
    "    step.append(next(index))\n",
    "    flux.append((((1 - slider_alpha.val)*(slider_flux.val)/(4*slider_emis.val*sigma))**(1/4)))\n",
    "    ax1.set_ylim(250,320)\n",
    "    ax1.plot(step, flux, color = 'green')\n",
    "    ax1.set_xlabel('Step')\n",
    "    ax1.set_ylabel('Temperature (K)')\n",
    "\n",
    "\n",
    "ani = animation.FuncAnimation(plt.gcf(), animate, interval = 80)\n",
    "plt.show()\n"
   ]
  },
  {
   "cell_type": "code",
   "execution_count": null,
   "metadata": {},
   "outputs": [],
   "source": []
  },
  {
   "cell_type": "code",
   "execution_count": null,
   "metadata": {},
   "outputs": [],
   "source": []
  },
  {
   "cell_type": "code",
   "execution_count": null,
   "metadata": {},
   "outputs": [],
   "source": []
  },
  {
   "cell_type": "code",
   "execution_count": null,
   "metadata": {},
   "outputs": [],
   "source": []
  }
 ],
 "metadata": {
  "kernelspec": {
   "display_name": "Python 3",
   "language": "python",
   "name": "python3"
  },
  "language_info": {
   "codemirror_mode": {
    "name": "ipython",
    "version": 3
   },
   "file_extension": ".py",
   "mimetype": "text/x-python",
   "name": "python",
   "nbconvert_exporter": "python",
   "pygments_lexer": "ipython3",
   "version": "3.8.5"
  }
 },
 "nbformat": 4,
 "nbformat_minor": 5
}
